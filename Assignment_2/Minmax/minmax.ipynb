{
  "cells": [
    {
      "cell_type": "code",
      "execution_count": 21,
      "metadata": {
        "execution": {
          "iopub.execute_input": "2023-11-28T16:53:51.862788Z",
          "iopub.status.busy": "2023-11-28T16:53:51.862350Z",
          "iopub.status.idle": "2023-11-28T16:53:51.868775Z",
          "shell.execute_reply": "2023-11-28T16:53:51.867499Z",
          "shell.execute_reply.started": "2023-11-28T16:53:51.862751Z"
        },
        "trusted": true,
        "id": "FPbQq1uCLzux"
      },
      "outputs": [],
      "source": [
        "def state_to_string(lst):\n",
        "    string=''\n",
        "    for i in lst:\n",
        "        string+=i\n",
        "    return string"
      ]
    },
    {
      "cell_type": "code",
      "execution_count": 22,
      "metadata": {
        "execution": {
          "iopub.execute_input": "2023-11-28T16:53:54.075889Z",
          "iopub.status.busy": "2023-11-28T16:53:54.074827Z",
          "iopub.status.idle": "2023-11-28T16:53:54.080835Z",
          "shell.execute_reply": "2023-11-28T16:53:54.079998Z",
          "shell.execute_reply.started": "2023-11-28T16:53:54.075841Z"
        },
        "trusted": true,
        "id": "ed4boe-PLzu4"
      },
      "outputs": [],
      "source": [
        "def player_move(state):\n",
        "    num = state.count('-')\n",
        "    if num % 2 != 0:\n",
        "        return 'O'\n",
        "    else:\n",
        "        return 'X'"
      ]
    },
    {
      "cell_type": "code",
      "execution_count": 23,
      "metadata": {
        "id": "qd1oFNTZLzu6"
      },
      "outputs": [],
      "source": [
        "def is_terminal(state):\n",
        "    winning_conditions = [\n",
        "        [0, 1, 2], [3, 4, 5], [6, 7, 8],  # Horizontal Win\n",
        "        [0, 3, 6], [1, 4, 7], [2, 5, 8],  # Vertical Win\n",
        "        [0, 4, 8], [2, 4, 6]              # Diagonal Win\n",
        "    ]\n",
        "\n",
        "    for condition in winning_conditions:\n",
        "        if state[condition[0]] == state[condition[1]] == state[condition[2]] != '-':\n",
        "            return True, 1 if state[condition[0]] == 'X' else -1\n",
        "\n",
        "    if '-' not in state:\n",
        "        return True, 0\n",
        "\n",
        "    return False, 0\n"
      ]
    },
    {
      "cell_type": "code",
      "execution_count": 25,
      "metadata": {
        "execution": {
          "iopub.execute_input": "2023-11-28T16:54:00.855486Z",
          "iopub.status.busy": "2023-11-28T16:54:00.855083Z",
          "iopub.status.idle": "2023-11-28T16:54:07.899598Z",
          "shell.execute_reply": "2023-11-28T16:54:07.898644Z",
          "shell.execute_reply.started": "2023-11-28T16:54:00.855452Z"
        },
        "trusted": true,
        "id": "9mw6P5cLLzu7"
      },
      "outputs": [],
      "source": [
        "tree = {}\n",
        "terminal = []\n",
        "child_parent = {}\n",
        "Scores = {}\n",
        "def create_tree(state = ['-']*9):\n",
        "    state_in_string = state_to_string(state)\n",
        "    tree[state_in_string] = []\n",
        "    move = player_move(state)\n",
        "\n",
        "    if not is_terminal(state)[0]:\n",
        "\n",
        "        for i in range(9):\n",
        "            copy_of_state = state.copy()\n",
        "            if state[i] == '-':\n",
        "                copy_of_state[i] = move\n",
        "                state_copy_string = state_to_string(copy_of_state)\n",
        "                tree[state_in_string].append(state_copy_string)\n",
        "\n",
        "                if state_copy_string not in child_parent.keys():\n",
        "                    child_parent[state_copy_string] = []\n",
        "                score = is_terminal(state_copy_string)[1]\n",
        "                Scores[state_copy_string]=[score, move]\n",
        "                if state_in_string not in child_parent[state_copy_string]:\n",
        "                    child_parent[state_copy_string].append(state_in_string)\n",
        "\n",
        "\n",
        "                create_tree(copy_of_state)\n",
        "    else:\n",
        "        if state_in_string not in terminal:\n",
        "            terminal.append(state_in_string)\n",
        "\n",
        "\n",
        "create_tree()\n",
        "child_parent['---------']=[None]\n",
        "Scores['---------']=[0, 'O']"
      ]
    },
    {
      "cell_type": "raw",
      "metadata": {
        "id": "1VOkH_8yLzu8"
      },
      "source": [
        "print(Score)"
      ]
    },
    {
      "cell_type": "code",
      "source": [
        "def MiniMax(parents):\n",
        "    while parents[0] is not None:\n",
        "        for j in parents:\n",
        "            score_list=[Scores[k][0] for k in tree[j]]  # using list comprehension it help us to make code compact\n",
        "            if Scores[j][1] == 'X':\n",
        "                Scores[j][0] = min(score_list)\n",
        "            else:\n",
        "                Scores[j][0] = max(score_list)\n",
        "            parents = child_parent[j]\n",
        "            MiniMax(parents)\n",
        "\n",
        "def update_values():\n",
        "    for i in terminal:\n",
        "        parents = child_parent[i]\n",
        "        MiniMax(parents)\n",
        "\n",
        "update_values()"
      ],
      "metadata": {
        "id": "b-tMLtYQQBiZ"
      },
      "execution_count": 26,
      "outputs": []
    },
    {
      "cell_type": "code",
      "source": [
        "import json\n",
        "with open('Tree-minmax.json', 'w+') as f:\n",
        "    json.dump(tree, f)"
      ],
      "metadata": {
        "id": "crMgsPz8I6g6"
      },
      "execution_count": 37,
      "outputs": []
    },
    {
      "cell_type": "code",
      "source": [
        "def position_to_move(state, action):\n",
        "    for i in range(9):\n",
        "        if state[i] == '-' and action[i] != '-':\n",
        "            return i\n",
        "\n",
        "def best_move(state):\n",
        "    state_str = state_to_string(state)\n",
        "    children = tree[state_str]\n",
        "    score_dict = {Scores[i][0]: i for i in children}  # Using dictionary comprehension it help us to make code compact\n",
        "\n",
        "    best_score = min(score_dict)\n",
        "    best_move_index = score_dict[best_score]\n",
        "    return position_to_move(state_str, best_move_index)"
      ],
      "metadata": {
        "id": "g4QNcnqdFctt"
      },
      "execution_count": 27,
      "outputs": []
    },
    {
      "cell_type": "code",
      "execution_count": 28,
      "metadata": {
        "execution": {
          "iopub.execute_input": "2023-11-28T07:39:19.311775Z",
          "iopub.status.busy": "2023-11-28T07:39:19.311429Z",
          "iopub.status.idle": "2023-11-28T07:39:19.322111Z",
          "shell.execute_reply": "2023-11-28T07:39:19.320829Z",
          "shell.execute_reply.started": "2023-11-28T07:39:19.311747Z"
        },
        "trusted": true,
        "id": "ZDRVgwNnLzvB"
      },
      "outputs": [],
      "source": [
        "def human_move_index():\n",
        "    row = int(input(\"Enter the row [1,2,3]:- \"))\n",
        "    column = int(input(\"Enter the column [1,2,3]:- \"))\n",
        "    if row == 1:\n",
        "        index = column - 1\n",
        "    elif row == 2:\n",
        "        index = 2 + column\n",
        "    else:\n",
        "        index = 5 + column\n",
        "    return index\n"
      ]
    },
    {
      "cell_type": "code",
      "execution_count": 29,
      "metadata": {
        "execution": {
          "iopub.execute_input": "2023-11-28T07:39:23.135453Z",
          "iopub.status.busy": "2023-11-28T07:39:23.134744Z",
          "iopub.status.idle": "2023-11-28T07:39:23.142835Z",
          "shell.execute_reply": "2023-11-28T07:39:23.141567Z",
          "shell.execute_reply.started": "2023-11-28T07:39:23.135419Z"
        },
        "trusted": true,
        "id": "0fO_DNSJLzvC"
      },
      "outputs": [],
      "source": [
        "def display(state):\n",
        "    print('-------------------')\n",
        "    print('| ',state[0],' | ',state[1],' | ',state[2],' |')\n",
        "    print('-------------------')\n",
        "    print('| ',state[3],' | ',state[4],' | ',state[5],' |')\n",
        "    print('-------------------')\n",
        "    print('| ',state[6],' | ',state[7],' | ',state[8],' |')\n",
        "    print('-------------------')"
      ]
    },
    {
      "cell_type": "code",
      "execution_count": 30,
      "metadata": {
        "execution": {
          "iopub.execute_input": "2023-11-28T07:39:26.151357Z",
          "iopub.status.busy": "2023-11-28T07:39:26.150884Z",
          "iopub.status.idle": "2023-11-28T07:39:26.160059Z",
          "shell.execute_reply": "2023-11-28T07:39:26.159062Z",
          "shell.execute_reply.started": "2023-11-28T07:39:26.151323Z"
        },
        "trusted": true,
        "id": "QYrQQi3qLzvC"
      },
      "outputs": [],
      "source": [
        "def play_Game():\n",
        "    state = ['-']*9\n",
        "    display(state)\n",
        "    player = 0\n",
        "    while not is_terminal(state)[0]:\n",
        "        if player % 2 != 0:\n",
        "            index = human_move_index()\n",
        "            state[index] = 'X'\n",
        "        else:\n",
        "            index = best_move(state)\n",
        "            state[index]='O'\n",
        "        display(state)\n",
        "        player += 1\n",
        "\n",
        "        terminal = is_terminal(state)\n",
        "        if terminal[1] == -1:\n",
        "            return 'AI won'\n",
        "        elif terminal[1] == 1:\n",
        "            return 'You won'\n",
        "        elif terminal[0] and terminal[1] == 0:\n",
        "            return 'Match draw'\n"
      ]
    },
    {
      "cell_type": "markdown",
      "metadata": {
        "execution": {
          "iopub.execute_input": "2023-11-28T04:48:25.265796Z",
          "iopub.status.busy": "2023-11-28T04:48:25.265308Z"
        },
        "id": "-s4fWzieLzvD"
      },
      "source": [
        "# play_Game()"
      ]
    },
    {
      "cell_type": "code",
      "execution_count": null,
      "metadata": {
        "execution": {
          "iopub.execute_input": "2023-11-28T07:39:30.014419Z",
          "iopub.status.busy": "2023-11-28T07:39:30.013305Z",
          "iopub.status.idle": "2023-11-28T07:40:35.134253Z",
          "shell.execute_reply": "2023-11-28T07:40:35.133482Z",
          "shell.execute_reply.started": "2023-11-28T07:39:30.014368Z"
        },
        "trusted": true,
        "id": "q--wjmGXLzvG"
      },
      "outputs": [],
      "source": [
        "play_Game()"
      ]
    },
    {
      "cell_type": "code",
      "source": [],
      "metadata": {
        "id": "HE10upHWL7Mh"
      },
      "execution_count": null,
      "outputs": []
    }
  ],
  "metadata": {
    "kaggle": {
      "accelerator": "none",
      "dataSources": [],
      "dockerImageVersionId": 30587,
      "isGpuEnabled": false,
      "isInternetEnabled": false,
      "language": "python",
      "sourceType": "notebook"
    },
    "kernelspec": {
      "display_name": "Python 3",
      "language": "python",
      "name": "python3"
    },
    "language_info": {
      "codemirror_mode": {
        "name": "ipython",
        "version": 3
      },
      "file_extension": ".py",
      "mimetype": "text/x-python",
      "name": "python",
      "nbconvert_exporter": "python",
      "pygments_lexer": "ipython3",
      "version": "3.9.13"
    },
    "colab": {
      "provenance": []
    }
  },
  "nbformat": 4,
  "nbformat_minor": 0
}