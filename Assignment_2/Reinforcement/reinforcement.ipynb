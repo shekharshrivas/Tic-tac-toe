{
  "cells": [
    {
      "cell_type": "code",
      "execution_count": 1,
      "metadata": {
        "id": "pRmcRgesgJrM"
      },
      "outputs": [],
      "source": [
        "import random"
      ]
    },
    {
      "cell_type": "code",
      "execution_count": 2,
      "metadata": {
        "id": "nW_0yALC8q0k"
      },
      "outputs": [],
      "source": [
        "def state_to_string(lst):\n",
        "    string=''\n",
        "    for i in lst:\n",
        "        string+=i\n",
        "    return string"
      ]
    },
    {
      "cell_type": "code",
      "execution_count": 3,
      "metadata": {
        "id": "czZ1ikB18q0m"
      },
      "outputs": [],
      "source": [
        "def player_move(state):\n",
        "    num = state.count('-')\n",
        "    if num % 2 == 0:\n",
        "        return 'O'\n",
        "    else:\n",
        "        return 'X'"
      ]
    },
    {
      "cell_type": "code",
      "execution_count": 4,
      "metadata": {
        "id": "zgtboLzg8q0m"
      },
      "outputs": [],
      "source": [
        "def is_terminal(state):\n",
        "    winning_conditions = [\n",
        "        [0, 1, 2], [3, 4, 5], [6, 7, 8],  # Horizontal Win\n",
        "        [0, 3, 6], [1, 4, 7], [2, 5, 8],  # Vertical Win\n",
        "        [0, 4, 8], [2, 4, 6]              # Diagonal Win\n",
        "    ]\n",
        "\n",
        "    for condition in winning_conditions:\n",
        "        if state[condition[0]] == state[condition[1]] == state[condition[2]] != '-':\n",
        "            return True, 1 if state[condition[0]] == 'X' else -1\n",
        "\n",
        "    if '-' not in state:\n",
        "        return True, 0\n",
        "\n",
        "    return False, 0"
      ]
    },
    {
      "cell_type": "code",
      "execution_count": null,
      "metadata": {
        "id": "IyvrgX-u8q0m"
      },
      "outputs": [],
      "source": [
        "tree = {}\n",
        "terminal = []\n",
        "child_parent = {}\n",
        "Scores = {}\n",
        "def create_tree(state = ['-']*9):\n",
        "    state_in_string = state_to_string(state)\n",
        "    tree[state_in_string] = []\n",
        "    move = player_move(state)\n",
        "\n",
        "    if not is_terminal(state)[0]:\n",
        "\n",
        "        for i in range(9):\n",
        "            state_copy = state.copy()\n",
        "            if state[i] == '-':\n",
        "                state_copy[i] = move\n",
        "                state_copy_string = state_to_string(state_copy)\n",
        "                tree[state_in_string].append(state_copy_string)\n",
        "\n",
        "                if state_copy_string not in child_parent.keys():\n",
        "                    child_parent[state_copy_string] = []\n",
        "\n",
        "                score = is_terminal(state_copy_string)[1]\n",
        "                Scores[state_copy_string]=score\n",
        "\n",
        "                if state_in_string not in child_parent[state_copy_string]:\n",
        "                    child_parent[state_copy_string].append(state_in_string)\n",
        "\n",
        "                create_tree(state_copy)\n",
        "    else:\n",
        "        if state_in_string not in terminal:\n",
        "            terminal.append(state_in_string)\n",
        "\n",
        "create_tree()\n",
        "child_parent['---------']=[None]\n",
        "Scores['---------'] = 0\n",
        "Scores"
      ]
    },
    {
      "cell_type": "code",
      "source": [
        "import json\n",
        "with open('Tree.json', 'w+') as f:\n",
        "    json.dump(tree, f)"
      ],
      "metadata": {
        "id": "j880PPrLIad0"
      },
      "execution_count": 13,
      "outputs": []
    },
    {
      "cell_type": "code",
      "execution_count": 6,
      "metadata": {
        "id": "bj66Enxg8q0n"
      },
      "outputs": [],
      "source": [
        "alpha = 0.50\n",
        "def Reinforcement(i):\n",
        "    global alpha\n",
        "    parents = child_parent[i]\n",
        "    state1 = Scores[i]\n",
        "    if parents[0] is not None:\n",
        "        for state in parents:\n",
        "\n",
        "            state2 = Scores[state]\n",
        "            updated_value = state2 + alpha * (state1 - state2)\n",
        "            Scores[state] = updated_value\n",
        "            Reinforcement(state)\n",
        "\n",
        "def update_values():\n",
        "\n",
        "    for i in terminal*110:\n",
        "        Reinforcement(i)\n",
        "\n",
        "update_values()"
      ]
    },
    {
      "cell_type": "code",
      "source": [
        "with open('Scores.json', 'w+') as f:\n",
        "    json.dump(Scores, f)"
      ],
      "metadata": {
        "id": "Brwmw1KWIqfG"
      },
      "execution_count": 14,
      "outputs": []
    },
    {
      "cell_type": "code",
      "execution_count": 7,
      "metadata": {
        "id": "hZYQzK2r8q0n"
      },
      "outputs": [],
      "source": [
        "def position_to_move(state, action):\n",
        "    for i in range(9):\n",
        "        if state[i] == '-' and action[i] != '-':\n",
        "            return i\n",
        "\n",
        "def best_move(state, player):\n",
        "    state = state_to_string(state)\n",
        "    children = tree[state]\n",
        "    score_dict = {Scores[i]: i for i in children}  # Using dictionary comprehension it help us to make code compact\n",
        "\n",
        "\n",
        "    lst = [1,6,5,8,2]\n",
        "    num = random.randrange(5)\n",
        "    if player == lst[num]:\n",
        "      score = max(score_dict)\n",
        "    else:\n",
        "      score = min(score_dict)\n",
        "\n",
        "    return position_to_move(state, score_dict[score])"
      ]
    },
    {
      "cell_type": "code",
      "execution_count": 8,
      "metadata": {
        "id": "iOcIjk0P8q0o"
      },
      "outputs": [],
      "source": [
        "def human_move_index():\n",
        "    row = int(input(\"Enter the row [1,2,3]:- \"))\n",
        "    column = int(input(\"Enter the column [1,2,3]:- \"))\n",
        "    if row == 1:\n",
        "        index = column - 1\n",
        "    elif row == 2:\n",
        "        index = 2 + column\n",
        "    else:\n",
        "        index = 5 + column\n",
        "    return index\n"
      ]
    },
    {
      "cell_type": "code",
      "execution_count": 9,
      "metadata": {
        "id": "PCLJQMK18q0o"
      },
      "outputs": [],
      "source": [
        "def display(state):\n",
        "    print('-------------------')\n",
        "    print('| ',state[0],' | ',state[1],' | ',state[2],' |')\n",
        "    print('-------------------')\n",
        "    print('| ',state[3],' | ',state[4],' | ',state[5],' |')\n",
        "    print('-------------------')\n",
        "    print('| ',state[6],' | ',state[7],' | ',state[8],' |')\n",
        "    print('-------------------')"
      ]
    },
    {
      "cell_type": "code",
      "execution_count": 10,
      "metadata": {
        "id": "BypYYk-h8q0o"
      },
      "outputs": [],
      "source": [
        "def play_Game():\n",
        "    state = ['-']*9\n",
        "    display(state)\n",
        "    player = 0\n",
        "    while not is_terminal(state)[0]:\n",
        "        if player % 2 == 0:\n",
        "            index = human_move_index()\n",
        "            state[index] = 'X'\n",
        "        else:\n",
        "            index = best_move(state, player)\n",
        "            state[index]='O'\n",
        "\n",
        "        display(state)\n",
        "        player += 1\n",
        "        terminal = is_terminal(state)\n",
        "\n",
        "        if terminal[1] == -1:\n",
        "            return 'AI won'\n",
        "        elif terminal[1] == 1:\n",
        "            return 'You won'\n",
        "        elif terminal[0] and terminal[1] == 0:\n",
        "            return 'Match draw'"
      ]
    },
    {
      "cell_type": "markdown",
      "source": [
        "#play_Game()"
      ],
      "metadata": {
        "id": "pFolkRxP5sBL"
      }
    },
    {
      "cell_type": "code",
      "execution_count": 11,
      "metadata": {
        "id": "OC0Y--0X8q0o",
        "colab": {
          "base_uri": "https://localhost:8080/",
          "height": 868
        },
        "outputId": "61e35dd9-8518-49c2-9026-a7bf30e2290e"
      },
      "outputs": [
        {
          "output_type": "stream",
          "name": "stdout",
          "text": [
            "-------------------\n",
            "|  -  |  -  |  -  |\n",
            "-------------------\n",
            "|  -  |  -  |  -  |\n",
            "-------------------\n",
            "|  -  |  -  |  -  |\n",
            "-------------------\n",
            "Enter the row [1,2,3]:- 2\n",
            "Enter the column [1,2,3]:- 2\n",
            "-------------------\n",
            "|  -  |  -  |  -  |\n",
            "-------------------\n",
            "|  -  |  X  |  -  |\n",
            "-------------------\n",
            "|  -  |  -  |  -  |\n",
            "-------------------\n",
            "-------------------\n",
            "|  -  |  -  |  -  |\n",
            "-------------------\n",
            "|  O  |  X  |  -  |\n",
            "-------------------\n",
            "|  -  |  -  |  -  |\n",
            "-------------------\n",
            "Enter the row [1,2,3]:- 3\n",
            "Enter the column [1,2,3]:- 3\n",
            "-------------------\n",
            "|  -  |  -  |  -  |\n",
            "-------------------\n",
            "|  O  |  X  |  -  |\n",
            "-------------------\n",
            "|  -  |  -  |  X  |\n",
            "-------------------\n",
            "-------------------\n",
            "|  -  |  -  |  -  |\n",
            "-------------------\n",
            "|  O  |  X  |  -  |\n",
            "-------------------\n",
            "|  O  |  -  |  X  |\n",
            "-------------------\n",
            "Enter the row [1,2,3]:- 1\n",
            "Enter the column [1,2,3]:- 1\n",
            "-------------------\n",
            "|  X  |  -  |  -  |\n",
            "-------------------\n",
            "|  O  |  X  |  -  |\n",
            "-------------------\n",
            "|  O  |  -  |  X  |\n",
            "-------------------\n"
          ]
        },
        {
          "output_type": "execute_result",
          "data": {
            "text/plain": [
              "'You won'"
            ],
            "application/vnd.google.colaboratory.intrinsic+json": {
              "type": "string"
            }
          },
          "metadata": {},
          "execution_count": 11
        }
      ],
      "source": [
        "play_Game()"
      ]
    },
    {
      "cell_type": "code",
      "source": [],
      "metadata": {
        "id": "utPPWsXszDih"
      },
      "execution_count": null,
      "outputs": []
    }
  ],
  "metadata": {
    "colab": {
      "provenance": []
    },
    "kaggle": {
      "accelerator": "none",
      "dataSources": [],
      "dockerImageVersionId": 30587,
      "isGpuEnabled": false,
      "isInternetEnabled": false,
      "language": "python",
      "sourceType": "notebook"
    },
    "kernelspec": {
      "display_name": "Python 3",
      "language": "python",
      "name": "python3"
    },
    "language_info": {
      "codemirror_mode": {
        "name": "ipython",
        "version": 3
      },
      "file_extension": ".py",
      "mimetype": "text/x-python",
      "name": "python",
      "nbconvert_exporter": "python",
      "pygments_lexer": "ipython3",
      "version": "3.9.13"
    }
  },
  "nbformat": 4,
  "nbformat_minor": 0
}